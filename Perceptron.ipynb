{
  "nbformat": 4,
  "nbformat_minor": 0,
  "metadata": {
    "colab": {
      "provenance": [],
      "authorship_tag": "ABX9TyMa4esXxXtTRgYxOVKrNelJ",
      "include_colab_link": true
    },
    "kernelspec": {
      "name": "python3",
      "display_name": "Python 3"
    },
    "language_info": {
      "name": "python"
    }
  },
  "cells": [
    {
      "cell_type": "markdown",
      "metadata": {
        "id": "view-in-github",
        "colab_type": "text"
      },
      "source": [
        "<a href=\"https://colab.research.google.com/github/Gayatri4-kesina/ML-Notebook/blob/main/Perceptron.ipynb\" target=\"_parent\"><img src=\"https://colab.research.google.com/assets/colab-badge.svg\" alt=\"Open In Colab\"/></a>"
      ]
    },
    {
      "cell_type": "code",
      "source": [
        "import numpy as np\n",
        "def perceptron(x1, x2, W, b):\n",
        "    X = np.array([x1, x2])\n",
        "    z = np.dot(X, W) + b\n",
        "    return 1 if z > 0 else 0\n",
        "def not_perceptron(x1, W, b):\n",
        "    z = np.dot(x1, W) + b\n",
        "    return 1 if z > 0 else 0\n",
        "def main():\n",
        "    gate = input(\"Enter the gate (AND, OR, NAND, NOT): \").upper()\n",
        "    logical_gates = {\n",
        "        \"AND\": (np.array([1, 1]), -1.5),\n",
        "        \"OR\": (np.array([1, 1]), -0.5),\n",
        "        \"NAND\": (np.array([-1, -1]), 1.5),\n",
        "        \"NOT\": (np.array([-1]), 0.5)\n",
        "    }\n",
        "\n",
        "    if gate not in logical_gates:\n",
        "        print(\"Invalid gate! Please enter AND, OR, NAND, or NOT.\")\n",
        "        return\n",
        "\n",
        "    if gate == \"NOT\":\n",
        "        x1 = int(input(\"Enter one number (0 or 1): \"))\n",
        "        W, b = logical_gates[gate]\n",
        "        answer = not_perceptron(x1, W, b)\n",
        "        print(f\"NOT {x1} = {answer}\")\n",
        "    else:\n",
        "        x1, x2 = map(int, input(\"Enter two numbers (0 or 1): \").split())\n",
        "        W, b = logical_gates[gate]\n",
        "        answer = perceptron(x1, x2, W, b)\n",
        "        print(f\"{gate}({x1}, {x2}) = {answer}\")\n",
        "\n",
        "if __name__ == \"__main__\":\n",
        "    main()\n"
      ],
      "metadata": {
        "id": "Z3LWJ1Q8ogpL",
        "colab": {
          "base_uri": "https://localhost:8080/"
        },
        "outputId": "f7f5bfdd-4f71-4b66-de55-f818801efc5e"
      },
      "execution_count": null,
      "outputs": [
        {
          "output_type": "stream",
          "name": "stdout",
          "text": [
            "Enter the gate (AND, OR, NAND, NOT): AND\n",
            "Enter two numbers (0 or 1): 1 0\n",
            "AND(1, 0) = 0\n"
          ]
        }
      ]
    },
    {
      "cell_type": "code",
      "source": [],
      "metadata": {
        "id": "YCCPyqBruKHf"
      },
      "execution_count": null,
      "outputs": []
    },
    {
      "cell_type": "code",
      "source": [],
      "metadata": {
        "id": "Xxdbjv-Mtm2d"
      },
      "execution_count": null,
      "outputs": []
    }
  ]
}